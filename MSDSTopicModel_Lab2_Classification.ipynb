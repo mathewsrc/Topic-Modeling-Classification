{
  "nbformat": 4,
  "nbformat_minor": 0,
  "metadata": {
    "colab": {
      "provenance": [],
      "collapsed_sections": [],
      "include_colab_link": true
    },
    "kernelspec": {
      "name": "python3",
      "display_name": "Python 3"
    },
    "language_info": {
      "name": "python"
    }
  },
  "cells": [
    {
      "cell_type": "markdown",
      "metadata": {
        "id": "view-in-github",
        "colab_type": "text"
      },
      "source": [
        "<a href=\"https://colab.research.google.com/github/punkmic/Topic-Modeling-Classification/blob/master/MSDSTopicModel_Lab2_Classification.ipynb\" target=\"_parent\"><img src=\"https://colab.research.google.com/assets/colab-badge.svg\" alt=\"Open In Colab\"/></a>"
      ]
    },
    {
      "cell_type": "markdown",
      "source": [
        "## ⚡️ Make a Copy\n",
        "\n",
        "Save a copy of this notebook in your Google Drive before continuing. Be sure to edit your own copy, not the original notebook."
      ],
      "metadata": {
        "id": "Yl3VQ2gUaRfc"
      }
    },
    {
      "cell_type": "markdown",
      "source": [
        "In this lab, you will simply excute the code to create your classifications and your interactive LDAvis. Success in this lab depends primarily on having properly completed Homework 2."
      ],
      "metadata": {
        "id": "KSnpm_-NUd_o"
      }
    },
    {
      "cell_type": "markdown",
      "source": [
        "Before continuing with this lab, be sure you have completed Homework 2 and saved your corpus and topic model to your Google Drive. They should be files in the root of your Google Drive called MSDS_HW2_corpus.p and MSDS_HW2_model.p. In this lab, you will load the model and use it for classification of documents in the corpus."
      ],
      "metadata": {
        "id": "FNDCPeJakfTf"
      }
    },
    {
      "cell_type": "markdown",
      "source": [
        "Mount your Google Drive via the left sidebar controls before continuing."
      ],
      "metadata": {
        "id": "T1P537r2lWIN"
      }
    },
    {
      "cell_type": "markdown",
      "source": [
        "✏️  **Note:** You may need to restart the runtime after running the following imports/installs."
      ],
      "metadata": {
        "id": "dOrEvM3SYVO7"
      }
    },
    {
      "cell_type": "code",
      "source": [
        "import numpy as np\n",
        "import pickle\n",
        "\n",
        "try:\n",
        "  import pyLDAvis\n",
        "except:\n",
        "  !pip install pyLDAvis==2.1.2\n",
        "  import pyLDAvis\n",
        "\n",
        "try:\n",
        "  import tmtoolkit\n",
        "except:\n",
        "  !pip install tmtoolkit\n",
        "  import tmtoolkit\n",
        "\n",
        "try:\n",
        "  from lda import LDA\n",
        "except: \n",
        "  !pip install lda\n",
        "  from lda import LDA\n",
        "\n",
        "from tmtoolkit.bow.bow_stats import doc_lengths\n",
        "from tmtoolkit.topicmod.model_stats import generate_topic_labels_from_top_words\n",
        "from tmtoolkit.topicmod.model_io import ldamodel_top_doc_topics\n",
        "from tmtoolkit.topicmod.model_io import load_ldamodel_from_pickle\n",
        "from tmtoolkit.topicmod.visualize import parameters_for_ldavis"
      ],
      "metadata": {
        "id": "naPgO-fDASS3"
      },
      "execution_count": null,
      "outputs": []
    },
    {
      "cell_type": "markdown",
      "source": [
        "## Load the saved objects"
      ],
      "metadata": {
        "id": "dZC081vsOu01"
      }
    },
    {
      "cell_type": "markdown",
      "source": [
        "Be sure that you have mounted your Google Drive and that the files are there."
      ],
      "metadata": {
        "id": "vPZ8s4UuYuFd"
      }
    },
    {
      "cell_type": "code",
      "source": [
        "with open(\"drive/MyDrive/MSDS_HW2_corpus.p\", \"rb\") as corpusfile:\n",
        "    corpus = pickle.load(corpusfile)"
      ],
      "metadata": {
        "id": "YPX2L91CHlqC"
      },
      "execution_count": null,
      "outputs": []
    },
    {
      "cell_type": "code",
      "source": [
        "with open(\"drive/MyDrive/MSDS_HW2_model.p\", \"rb\") as modelfile:\n",
        "    model_info = load_ldamodel_from_pickle(modelfile)\n",
        "\n",
        "model_info.keys()"
      ],
      "metadata": {
        "id": "Z0FroBCk9zKm"
      },
      "execution_count": null,
      "outputs": []
    },
    {
      "cell_type": "markdown",
      "source": [
        "## Classification"
      ],
      "metadata": {
        "id": "nYEPjiCWPnap"
      }
    },
    {
      "cell_type": "markdown",
      "source": [
        "As seen from the keys output above, the saved model is actually a dictionary containing the model itself, along with some other resources we will need.\n",
        "\n",
        "Here, you will use those resources to create topic labels using [generate_topic_labels_from_top_words](https://tmtoolkit.readthedocs.io/en/latest/api.html#tmtoolkit.topicmod.model_stats.generate_topic_labels_from_top_words). Note that the vocabulary is provided as a list, but a numpy array is needed. Also note that the doc lengths are determined by the doc_lengths function using the saved dtm."
      ],
      "metadata": {
        "id": "PMg0V5QyR0R5"
      }
    },
    {
      "cell_type": "code",
      "source": [
        "model = model_info[\"model\"]\n",
        "vocab = model_info[\"vocab\"]\n",
        "dtm = model_info[\"dtm\"]\n",
        "doc_labels = model_info[\"doc_labels\"]\n",
        "\n",
        "topic_labels = generate_topic_labels_from_top_words(\n",
        "    model.topic_word_,\n",
        "    model.doc_topic_,\n",
        "    doc_lengths(dtm),\n",
        "    np.array(vocab),\n",
        ")"
      ],
      "metadata": {
        "id": "wUThn--etn-n"
      },
      "execution_count": null,
      "outputs": []
    },
    {
      "cell_type": "code",
      "source": [
        "topic_labels"
      ],
      "metadata": {
        "id": "Ckw-6lOcAGBe"
      },
      "execution_count": null,
      "outputs": []
    },
    {
      "cell_type": "markdown",
      "source": [
        "Document classifications can be retrieved via [ldamodel_top_doc_topics](https://tmtoolkit.readthedocs.io/en/latest/api.html?highlight=ldamodel_top_doc_topics#tmtoolkit.topicmod.model_io.ldamodel_top_doc_topics)"
      ],
      "metadata": {
        "id": "s5HnccNyT3Ix"
      }
    },
    {
      "cell_type": "code",
      "source": [
        "doc_topic = model.doc_topic_\n",
        "documentclassifications = ldamodel_top_doc_topics(doc_topic, doc_labels, top_n=2, topic_labels=topic_labels) "
      ],
      "metadata": {
        "id": "PdF3sNdNA0TS"
      },
      "execution_count": null,
      "outputs": []
    },
    {
      "cell_type": "code",
      "source": [
        "documentclassifications.head()"
      ],
      "metadata": {
        "id": "zlzDDyEdDC4A"
      },
      "execution_count": null,
      "outputs": []
    },
    {
      "cell_type": "markdown",
      "source": [
        "### Attach the original corpus texts to the dataframe"
      ],
      "metadata": {
        "id": "ZqY9TMqAPgXC"
      }
    },
    {
      "cell_type": "markdown",
      "source": [
        "Finally, include the corpus texts in the frame in order to see the text alongside the topics."
      ],
      "metadata": {
        "id": "b5LXvvWDULps"
      }
    },
    {
      "cell_type": "code",
      "source": [
        "documentclassifications[\"text\"] = corpus\n",
        "documentclassifications.head()"
      ],
      "metadata": {
        "id": "sejQHEKPE9YO"
      },
      "execution_count": null,
      "outputs": []
    },
    {
      "cell_type": "markdown",
      "source": [
        "## Visualization"
      ],
      "metadata": {
        "id": "u4g5oKuuPsIX"
      }
    },
    {
      "cell_type": "markdown",
      "source": [
        "[pyLDAvis](https://pyldavis.readthedocs.io/en/latest/readme.html) is a Python port of the LDAvis package in R, and is used as a tool for interpreting the topics in a topic model that has been fit to a corpus of text data. "
      ],
      "metadata": {
        "id": "av9eYGngQmBj"
      }
    },
    {
      "cell_type": "markdown",
      "source": [
        "Execute the following code to create an interactive visualization of your topic model."
      ],
      "metadata": {
        "id": "nlEWzZjiRBMP"
      }
    },
    {
      "cell_type": "code",
      "source": [
        "ldavis_params = parameters_for_ldavis(\n",
        "    model.topic_word_,\n",
        "    model.doc_topic_,\n",
        "    dtm,\n",
        "    vocab\n",
        ")"
      ],
      "metadata": {
        "id": "FaUssC2ZDs_I"
      },
      "execution_count": null,
      "outputs": []
    },
    {
      "cell_type": "code",
      "source": [
        "%matplotlib inline\n",
        "vis = pyLDAvis.prepare(**ldavis_params)\n",
        "pyLDAvis.enable_notebook(local=True)\n",
        "pyLDAvis.display(vis)"
      ],
      "metadata": {
        "id": "CqzNrjjUFdqa"
      },
      "execution_count": null,
      "outputs": []
    },
    {
      "cell_type": "markdown",
      "source": [
        "⚡️ **For a better screenshot:**\n",
        "\n",
        " * Select the code cell above which contains the display code\n",
        " * Select the 3 dots at the far right for \"More cell actions\"\n",
        " * Select \"View output fullscreen\"\n",
        "\n"
      ],
      "metadata": {
        "id": "kZECZFYtWUp2"
      }
    },
    {
      "cell_type": "markdown",
      "source": [
        "## Submit a screenshot for peer evaluation"
      ],
      "metadata": {
        "id": "NdynLl1rU9C6"
      }
    },
    {
      "cell_type": "markdown",
      "source": [
        "Once you have completed execution of the above code, and have generated the visualization of your topic model, submit a screenshot of your interactive LDAvis above as proof of completion of the lab. This should be submitted as an image file in the peer review assessment after Lab 2 in Coursera."
      ],
      "metadata": {
        "id": "X28_EexNVDb3"
      }
    },
    {
      "cell_type": "markdown",
      "source": [
        "💡 Tip: The LDAvis tends to be a bit more readable in Colab's light theme than it is in the dark theme (Go to Tools > Settings > Sight > Theme > light). Also, it may be easier to get a good screenshot by viewing the chart at full screen (see the ⚡️ tip above)."
      ],
      "metadata": {
        "id": "1utC0eOXVpxl"
      }
    }
  ]
}